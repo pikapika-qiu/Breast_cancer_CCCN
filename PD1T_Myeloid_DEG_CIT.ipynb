{
 "cells": [
  {
   "cell_type": "code",
   "execution_count": 1,
   "metadata": {},
   "outputs": [],
   "source": [
    "import numpy as np\n",
    "import matplotlib.pyplot as plt\n",
    "import pandas as pd\n",
    "import scanpy as sc\n",
    "import scipy.io as sio\n",
    "import anndata as ad\n",
    "import seaborn as sns\n",
    "import os as os\n",
    "import sys as sys\n",
    "sys.path.append('/home/qiuaodon/Desktop/PanCancer_scRNA_analysis/utils/')\n",
    "from scRNA_utils import *\n",
    "import operator as op\n",
    "import matplotlib.colors as mcolors\n",
    "data_dir_NHDP = \"/home/qiuaodon/Desktop/project_data_new/\""
   ]
  },
  {
   "cell_type": "markdown",
   "metadata": {},
   "source": [
    "# load in sc data"
   ]
  },
  {
   "cell_type": "code",
   "execution_count": null,
   "metadata": {},
   "outputs": [],
   "source": [
    "data_dir_NHDP = \"/home/qiuaodon/Desktop/PanCancer_scRNA_analysis/\"\n",
    "adata_T = sc.read(data_dir_NHDP + '1863-counts_cells_cohort1_T_cells.h5ad')\n",
    "adata_1 = adata_T[adata_T[:,'PDCD1'].X > 0, :]\n",
    "adata_M = sc.read(data_dir_NHDP + '1863-counts_cells_cohort1_M_cells.h5ad')\n",
    "adata_2 = adata_M"
   ]
  },
  {
   "cell_type": "code",
   "execution_count": 4,
   "metadata": {},
   "outputs": [],
   "source": [
    "colors = [\"grey\", \"blue\"]  # Start with grey and end with blue\n",
    "cmap = mcolors.LinearSegmentedColormap.from_list(\"grey_to_blue\", colors)\n"
   ]
  },
  {
   "cell_type": "code",
   "execution_count": 6,
   "metadata": {},
   "outputs": [],
   "source": [
    "adata_1_pseudo = scRNA2PseudoBulkAnnData(adata_1, sample_id_col='sample_id')\n",
    "adata_2_pseudo = scRNA2PseudoBulkAnnData(adata_2, sample_id_col='sample_id')"
   ]
  },
  {
   "cell_type": "markdown",
   "metadata": {},
   "source": [
    "# prepare data matrix for IVtest"
   ]
  },
  {
   "cell_type": "code",
   "execution_count": null,
   "metadata": {},
   "outputs": [],
   "source": [
    "DEG_1 = paird_ttest(adata_1, condition_key = 'timepoint', sample_id_col = 'sample_id', patient_id_col = 'patient_id')\n",
    "DEG_2 = paird_ttest(adata_2, condition_key = 'timepoint', sample_id_col = 'sample_id', patient_id_col = 'patient_id')"
   ]
  },
  {
   "cell_type": "code",
   "execution_count": 7,
   "metadata": {},
   "outputs": [],
   "source": [
    "DEG_1 = DEG_1[DEG_1['pval'] < 0.05]\n",
    "DEG_2 = DEG_2[DEG_2['pval'] < 0.05]\n",
    "gene_1 = DEG_1.index.tolist()\n",
    "gene_2 = DEG_2.index.tolist()\n",
    "\n",
    "# Filter out invalid gene names\n",
    "gene_1 = [gene for gene in gene_1 if gene in adata_1_pseudo.var_names]\n",
    "gene_2 = [gene for gene in gene_2 if gene in adata_2_pseudo.var_names]\n",
    "\n",
    "gene_1_matrix = adata_1_pseudo[:, gene_1].X\n",
    "gene_2_matrix = adata_2_pseudo[:, gene_2].X\n",
    "gene_1_df = pd.DataFrame(gene_1_matrix, columns=gene_1, index=adata_1_pseudo.obs['sample_id'])\n",
    "gene_2_df = pd.DataFrame(gene_2_matrix, columns=gene_2, index=adata_2_pseudo.obs['sample_id'])\n",
    "gene_1_df.columns = [i + '_T' for i in gene_1_df.columns]\n",
    "gene_2_df.columns = [i + '_M' for i in gene_2_df.columns]\n",
    "gene_df = gene_1_df\n",
    "gene_df = pd.merge(gene_df, gene_2_df, on='sample_id')"
   ]
  },
  {
   "cell_type": "code",
   "execution_count": null,
   "metadata": {},
   "outputs": [],
   "source": [
    "gene_df['treatment'] = gene_df.index.str.contains('On').astype(int)\n",
    "# get patient id from sample id remove the _On or _Pre\n",
    "gene_df['patient_id'] = gene_df.index.str.replace('_On', '').str.replace('_Pre', '')\n",
    "gene_df['treatment'].value_counts()"
   ]
  },
  {
   "cell_type": "code",
   "execution_count": 38,
   "metadata": {},
   "outputs": [],
   "source": [
    "# export the gene_df to csv\n",
    "# gene_df.to_csv(data_dir_NHDP + 'gene_df_PD1_Myeloid.csv')\n",
    "gene_df.to_csv(data_dir_NHDP + 'gene_df_PD1_Myeloid_GEM.csv')"
   ]
  },
  {
   "cell_type": "markdown",
   "metadata": {},
   "source": [
    "# load in IV result and perform CIT"
   ]
  },
  {
   "cell_type": "code",
   "execution_count": 9,
   "metadata": {},
   "outputs": [],
   "source": [
    "# DEG_pairs = pd.read_excel('/home/qiuaodon/Desktop/project_data_new/IV_regression_results_PD1vsM.xlsx')\n",
    "DEG_pairs = pd.read_csv('/home/qiuaodon/Desktop/project_data_new/IV_regression_results_PD1vsM_including_qval.csv')\n",
    "# DEG_pairs = pd.read_excel('/home/qiuaodon/Desktop/project_data_new/IV_regression_results_CD4EXvsEndo_filtered.xlsx')\n",
    "# drop the p_value column and r_squared column\n",
    "# DEG_pairs = DEG_pairs.drop(columns=['p_value', 'r_squared'])\n",
    "# set the first two columns as g1 and g2 in DEG_pairs\n",
    "DEG_pairs = DEG_pairs.rename(columns = {'gene_T':'g1', 'gene_cell':'g2'})"
   ]
  },
  {
   "cell_type": "code",
   "execution_count": null,
   "metadata": {},
   "outputs": [],
   "source": [
    "\n",
    "calculate_gene_correlation(DEG_pairs, adata_1_pseudo, adata_2_pseudo)"
   ]
  },
  {
   "cell_type": "code",
   "execution_count": null,
   "metadata": {},
   "outputs": [],
   "source": [
    "# Combine the two conditions using the logical OR operator\n",
    "DEG_pairs = DEG_pairs[(DEG_pairs['g1vsg2_correlation'] > 0.3) | (DEG_pairs['g1vsg2_correlation'] < -0.3)]\n",
    "DEG_pairs = DEG_pairs[(DEG_pairs['g1vsg2_correlation'] > 0.3)]\n",
    "# sort the DEG_pairs by g1vsg2_correlation\n",
    "DEG_pairs = DEG_pairs.sort_values(by='g1vsg2_correlation', ascending=False)\n",
    "DEG_pairs"
   ]
  },
  {
   "cell_type": "code",
   "execution_count": null,
   "metadata": {},
   "outputs": [],
   "source": [
    "g1 = list(DEG_pairs['g1']) \n",
    "g2 = list(DEG_pairs['g2']) \n",
    "g1_in_CD4EX = [i for i in gene_df.columns if np.sum(gene_df.loc[:, i] == 0) < 15] \n",
    "g2_in_Endo = [i for i in gene_df.columns if np.sum(gene_df.loc[:, i] == 0) < 15] \n",
    "DEG_pairs = DEG_pairs[DEG_pairs['g1'].isin(g1_in_CD4EX) & DEG_pairs['g2'].isin(g2_in_Endo)] \n",
    "DEG_pairs "
   ]
  },
  {
   "cell_type": "code",
   "execution_count": null,
   "metadata": {},
   "outputs": [],
   "source": [
    "lrpair = pd.read_csv('/home/qiuaodon/Desktop/project_data_new/lr_network_unique.tsv', sep='\\t')\n",
    "# get the lr pairs including ligand(from) and receptor(to) from the lrpair file with database as 'kegg'\n",
    "lrpair = lrpair[['from', 'to']]\n",
    "# change from as L and to as R\n",
    "lrpair.columns = ['L', 'R']\n",
    "lrpair"
   ]
  },
  {
   "cell_type": "code",
   "execution_count": null,
   "metadata": {},
   "outputs": [],
   "source": [
    "# check if the L and R in adata_CD4EX and adata_Mono separately and expression not all zero\n",
    "L = list(lrpair['L'])\n",
    "R = list(lrpair['R'])\n",
    "L_in_1 = list(set(L).intersection(adata_1.var_names))\n",
    "R_in_2 = list(set(R).intersection(adata_2.var_names))\n",
    "L_in_1 = [x for x in L_in_1 if np.sum(adata_1_pseudo[:, x].X == 0) < 0.75 * adata_1_pseudo.shape[0]]\n",
    "R_in_2 = [x for x in R_in_2 if np.sum(adata_2_pseudo[:, x].X == 0) < 0.75 * adata_2_pseudo.shape[0]]\n",
    "print('L_in_CD4EX:', len(L_in_1))\n",
    "print('R_in_2:', len(R_in_2))"
   ]
  },
  {
   "cell_type": "code",
   "execution_count": null,
   "metadata": {},
   "outputs": [],
   "source": [
    "# remove the LR pairs not in L_in_CD4EX and R_in_DC\n",
    "lrpair = lrpair[lrpair['L'].isin(L_in_1)]\n",
    "lrpair = lrpair[lrpair['R'].isin(R_in_2)]\n",
    "print('lrpair_kegg:', lrpair.shape)"
   ]
  },
  {
   "cell_type": "code",
   "execution_count": 12,
   "metadata": {},
   "outputs": [],
   "source": [
    "# check if CXCL13-ACKR1 in the LR_pairs\n",
    "lrpair[(lrpair['L'] == 'CXCL13') & (lrpair['R'] == 'ACKR1')]\n",
    "new_pair = pd.DataFrame({'L': ['CXCL13'], 'R': ['ACKR1']})\n",
    "lrpair = pd.concat([lrpair, new_pair], ignore_index=True)"
   ]
  },
  {
   "cell_type": "markdown",
   "metadata": {},
   "source": [
    "# CIT using fisher-z"
   ]
  },
  {
   "cell_type": "code",
   "execution_count": 22,
   "metadata": {},
   "outputs": [],
   "source": [
    "def CIT_test(DEG_pairs, lrpairs, adata_1_pseudo, adata_2_pseudo, gene_df, method=\"kci\", p_value_threshold=0.05):\n",
    "    results = pd.DataFrame(columns=['g1', 'g2', 'L', 'R', 'pValue'])\n",
    "\n",
    "    for index, row in DEG_pairs.iterrows():\n",
    "        g1 = row['g1']\n",
    "        g2 = row['g2']\n",
    "        for L, R in lrpairs.values:\n",
    "                # Check if L and R can be found in the DEG expression data\n",
    "                if L in adata_1_pseudo.var_names and R in adata_2_pseudo.var_names:\n",
    "                    # Get the L_T and R_B from pseudo_T and pseudo_M\n",
    "                    L_T = adata_1_pseudo[:, L].X\n",
    "                    L_T = pd.DataFrame(L_T, columns=[L], index=adata_1_pseudo.obs['sample_id']).dropna()\n",
    "                    R_M = adata_2_pseudo[:, R].X\n",
    "                    R_M = pd.DataFrame(R_M, columns=[R], index=adata_2_pseudo.obs['sample_id']).dropna()\n",
    "                    \n",
    "                    # Calculate L*R\n",
    "                    L_T.columns = [R + '_vs_' + L]\n",
    "                    R_M.columns = L_T.columns\n",
    "                    L_R = L_T.multiply(R_M, axis=0).iloc[:, 0]\n",
    "\n",
    "                    # Make a DataFrame g1, g2 and L*R\n",
    "                    if g1 not in gene_df.columns or g2 not in gene_df.columns:\n",
    "                        continue\n",
    "                    \n",
    "                    g1_T = gene_df[g1]\n",
    "                    g2_M = gene_df[g2]\n",
    "                    df = pd.DataFrame({g1: g1_T, g2: g2_M, 'L*R': L_R}).dropna()\n",
    "\n",
    "                    # Convert df to numpy array\n",
    "                    df_numpy = df.to_numpy()\n",
    "\n",
    "                    # Perform the chosen independence test\n",
    "                    if method == \"kci\":\n",
    "                        cit_obj = CIT(df_numpy, \"kci\")\n",
    "                    elif method == \"fisherz\":\n",
    "                        cit_obj = CIT(df_numpy, \"fisherz\")\n",
    "                    else:\n",
    "                        raise ValueError(\"Unsupported method. Use 'kci' or 'fisherz'.\")\n",
    "                    \n",
    "                    pValue = cit_obj(0, 1, [2])\n",
    "                    results = pd.concat([results, pd.DataFrame({'g1': [g1], 'g2': [g2], 'L': [L], 'R': [R], 'pValue': [pValue]})], ignore_index=True)\n",
    "\n",
    "    return results"
   ]
  },
  {
   "cell_type": "code",
   "execution_count": 23,
   "metadata": {},
   "outputs": [],
   "source": [
    "results = CIT_test(DEG_pairs, lrpair, adata_1_pseudo, adata_2_pseudo, gene_df, method = 'fisherz', p_value_threshold=0.05)"
   ]
  },
  {
   "cell_type": "code",
   "execution_count": null,
   "metadata": {},
   "outputs": [],
   "source": [
    "#calculate the correlation between g1 and g2\n",
    "calculate_gene_correlation(results, adata_1_pseudo, adata_2_pseudo)\n",
    "calculate_residuals_correlation(results, adata_1_pseudo, adata_2_pseudo)"
   ]
  },
  {
   "cell_type": "code",
   "execution_count": null,
   "metadata": {},
   "outputs": [],
   "source": [
    "# save the results to csv\n",
    "results.to_csv(data_dir_NHDP + 'IT_test_results_PD1_Myeloid_alCl_results.csv')"
   ]
  },
  {
   "cell_type": "markdown",
   "metadata": {},
   "source": [
    "## draw heatmap"
   ]
  },
  {
   "cell_type": "code",
   "execution_count": null,
   "metadata": {},
   "outputs": [],
   "source": [
    "# sort DEG1_1 and DEG1_2 by the p_value\n",
    "DEG_1 = DEG_1.sort_values(by='pval')\n",
    "DEG_2 = DEG_2.sort_values(by='pval')\n",
    "DEG_1"
   ]
  },
  {
   "cell_type": "code",
   "execution_count": 7,
   "metadata": {},
   "outputs": [],
   "source": [
    "# top 20 genes in DEG_1 and DEG_2 as top_genes_T and top_genes_M\n",
    "top_genes_T = DEG_1.index[:25]\n",
    "top_genes_M = DEG_2.index[:25]\n"
   ]
  },
  {
   "cell_type": "code",
   "execution_count": null,
   "metadata": {},
   "outputs": [],
   "source": [
    "# replace the ETS2 in top_genes_M with RHOB\n",
    "top_genes_M = top_genes_M.drop('ETS2')\n",
    "top_genes_M = top_genes_M.append(pd.Index(['RHOB']))\n",
    "top_genes_M"
   ]
  },
  {
   "cell_type": "code",
   "execution_count": null,
   "metadata": {},
   "outputs": [],
   "source": [
    "top_genes_T"
   ]
  },
  {
   "cell_type": "code",
   "execution_count": 13,
   "metadata": {},
   "outputs": [],
   "source": [
    "top_genes_M = [\n",
    "    'TSC22D3', 'DDIT4', 'FKBP5', 'SLC1A3', 'AREG', 'ACSL1',\n",
    "    'RGS1', 'CH25H', 'SMIM3', 'TUBA1A', 'HERPUD1','RNF144B', 'KCNE1', 'TENT5A',\n",
    "    'SLC19A2', 'SOCS1', 'DUSP6', 'TNFAIP3', 'PFKFB3', 'RHOB', 'SESN1', 'PDK4',\n",
    "    'ARRDC2', 'MZF1-AS1', 'CEBPD'\n",
    "]\n"
   ]
  },
  {
   "cell_type": "code",
   "execution_count": null,
   "metadata": {},
   "outputs": [],
   "source": [
    "top_genes_T = [\n",
    "    'CH25H',\n",
    "    'TSC22D3',\n",
    "    'TNFAIP3',\n",
    "    'BIRC3',\n",
    "    'SPON2',\n",
    "    'ZFP36',\n",
    "    'SLA',\n",
    "    'ZFP36',\n",
    "    'TXNIP',\n",
    "    'IER2',\n",
    "    'KLF10'\n",
    "]"
   ]
  },
  {
   "cell_type": "code",
   "execution_count": null,
   "metadata": {},
   "outputs": [],
   "source": [
    "import seaborn as sns\n",
    "import scipy.stats as stats\n",
    "from scipy.stats import spearmanr \n",
    "import numpy as np\n",
    "\n",
    "# Your existing data preparation code remains the same\n",
    "adata_T_pseudo = adata_1_pseudo\n",
    "adata_M_pseudo = adata_2_pseudo\n",
    "adata_M_pseudo = adata_M_pseudo[adata_M_pseudo.obs['sample_id'].isin(adata_T_pseudo.obs['sample_id'])]\n",
    "adata_T_pseudo = adata_T_pseudo[adata_T_pseudo.obs['sample_id'].isin(adata_M_pseudo.obs['sample_id'])]\n",
    "\n",
    "# Initialize matrices\n",
    "corr_matrix = np.zeros((len(top_genes_T), len(top_genes_M)))\n",
    "pval_matrix = np.zeros((len(top_genes_T), len(top_genes_M)))\n",
    "\n",
    "# Calculate correlations\n",
    "for i, gene_T in enumerate(top_genes_T):\n",
    "    for j, gene_M in enumerate(top_genes_M):\n",
    "        gene_T = gene_T.replace('_T', '')\n",
    "        gene_M = gene_M.replace('_M', '')\n",
    "        gene_T_expression = adata_T_pseudo[:, adata_T_pseudo.var_names == gene_T].X.flatten()\n",
    "        gene_M_expression = adata_M_pseudo[:, adata_M_pseudo.var_names == gene_M].X.flatten()\n",
    "        corr, pval = spearmanr(gene_T_expression, gene_M_expression)\n",
    "        corr_matrix[i, j] = corr\n",
    "        pval_matrix[i, j] = -np.log10(pval)\n",
    "\n",
    "# Sort the correlation matrix\n",
    "# First, calculate the mean correlation for each row and column\n",
    "row_means = np.mean(corr_matrix, axis=1)\n",
    "col_means = np.mean(corr_matrix, axis=0)\n",
    "\n",
    "# Get sorting indices\n",
    "row_idx = np.argsort(row_means)[::-1]  # Sort in descending order\n",
    "col_idx = np.argsort(col_means)[::-1]  # Sort in descending order\n",
    "\n",
    "# Sort the matrices and gene names\n",
    "corr_matrix_sorted = corr_matrix[row_idx][:, col_idx]\n",
    "pval_matrix_sorted = pval_matrix[row_idx][:, col_idx]\n",
    "top_genes_T_sorted = np.array(top_genes_T)[row_idx]\n",
    "top_genes_M_sorted = np.array(top_genes_M)[col_idx]\n",
    "\n",
    "# Plot the sorted correlation matrix\n",
    "plt.figure(figsize=(8, 6))\n",
    "sns.heatmap(corr_matrix_sorted, annot=False, cmap='coolwarm', vmin=-1, vmax=1,\n",
    "            xticklabels=top_genes_M_sorted, yticklabels=top_genes_T_sorted)\n",
    "\n",
    "# Customize tick labels\n",
    "plt.gca().set_xticklabels(top_genes_M_sorted, fontstyle='italic', rotation=45, ha='right')\n",
    "plt.gca().set_yticklabels(top_genes_T_sorted, fontstyle='italic', rotation=0)\n",
    "plt.title('Correlation between Highly Correlated DEGs in T and M cells\\n')\n",
    "plt.xlabel('')\n",
    "plt.ylabel('')\n",
    "plt.tight_layout()  # Added to prevent label cutoff\n",
    "plt.show()"
   ]
  },
  {
   "cell_type": "markdown",
   "metadata": {},
   "source": [
    "#### plot the scatter plots\n"
   ]
  },
  {
   "cell_type": "code",
   "execution_count": 19,
   "metadata": {},
   "outputs": [],
   "source": [
    "import pandas as pd\n",
    "import seaborn as sns\n",
    "import matplotlib.pyplot as plt\n",
    "import statsmodels.api as sm\n",
    "from scipy.stats import spearmanr, pearsonr\n",
    "\n",
    "def plot_CIT_DEGcorr(g1, g2, L, R, DEG_exp, pseudo_1, pseudo_2):\n",
    "    # Define a custom palette\n",
    "    palette = {'pre': \"#E69F00\", 'on': \"#56B4E9\"}\n",
    "    #replace the treatment column 0 pre and 1 on\n",
    "    gene_df['treatment'] = gene_df['treatment'].replace({0: 'pre', 1: 'on'})\n",
    "    # Set font sizes\n",
    "    title_fontsize = 14\n",
    "    axis_fontsize = 14\n",
    "    legend_fontsize = 12\n",
    "\n",
    "    def adjust_plot_limits(ax, x_data, y_data):\n",
    "        x_min, x_max = x_data.min(), x_data.max()\n",
    "        y_min, y_max = y_data.min(), y_data.max()\n",
    "        x_padding = (x_max - x_min) * 0.1\n",
    "        y_padding = (y_max - y_min) * 0.1\n",
    "        ax.set_xlim(x_min - x_padding, x_max + x_padding)\n",
    "        ax.set_ylim(y_min - y_padding, y_max + y_padding)\n",
    "\n",
    "    # Plot the jointplot between DEG of g1 and g2\n",
    "    g1_exp = DEG_exp[g1]\n",
    "    g2_exp = DEG_exp[g2]\n",
    "    df1 = pd.DataFrame({g1: g1_exp, g2: g2_exp, 'treatment': DEG_exp['treatment']})\n",
    "    df1 = df1.dropna()\n",
    "    g = sns.jointplot(x=g1, y=g2, data=df1, hue='treatment', palette=palette, kind='scatter', marginal_kws=dict(fill=True))\n",
    "    sns.regplot(x=g1, y=g2, data=df1, scatter=False, ax=g.ax_joint, color='black')\n",
    "    adjust_plot_limits(g.ax_joint, df1[g1], df1[g2])\n",
    "    \n",
    "    g.ax_joint.tick_params(left=False, bottom=False)\n",
    "    g.ax_marg_x.tick_params(bottom=False)\n",
    "    g.ax_marg_y.tick_params(left=False)\n",
    "    cor = pearsonr(df1[g1], df1[g2])[0]\n",
    "    plt.suptitle(f'Correlation between {g1} and {g2} is {cor:.3f}', fontsize=title_fontsize)\n",
    "    plt.subplots_adjust(top=0.95)\n",
    "    plt.show()\n",
    "\n",
    "     # Plot the jointplot between DEG of g1 and g2 residue\n",
    "    L_values = pseudo_1[:, L].X.toarray().flatten()\n",
    "    R_values = pseudo_2[:, R].X.toarray().flatten()\n",
    "    L_R = L_values * R_values\n",
    "    X = sm.add_constant(L_R)\n",
    "\n",
    "    # Fit OLS model for g2\n",
    "    model_g2 = sm.OLS(g2_exp, X).fit()\n",
    "    residuals_g2 = model_g2.resid\n",
    "\n",
    "    # Fit OLS model for g1\n",
    "    model_g1 = sm.OLS(g1_exp, X).fit()\n",
    "    residuals_g1 = model_g1.resid\n",
    "\n",
    "    #   Create DataFrame for residuals\n",
    "    df_res = pd.DataFrame({\n",
    "        'G_1_residual': residuals_g1,\n",
    "        'G_2_residual': residuals_g2,\n",
    "        'treatment': DEG_exp['treatment']\n",
    "    })\n",
    "\n",
    "    # Plot the residuals\n",
    "    g = sns.jointplot(x='G_1_residual', y='G_2_residual', data=df_res, hue='treatment', palette=palette, kind='scatter', marginal_kws=dict(fill=True))\n",
    "    sns.regplot(x='G_1_residual', y='G_2_residual', data=df_res, scatter=False, ax=g.ax_joint, color='black')\n",
    "\n",
    "    # Adjust plot limits if needed\n",
    "    adjust_plot_limits(g.ax_joint, df_res['G_1_residual'], df_res['G_2_residual'])\n",
    "\n",
    "    # Customize plot appearance\n",
    "    g.ax_joint.tick_params(left=False, bottom=False)\n",
    "    g.ax_marg_x.tick_params(bottom=False)\n",
    "    g.ax_marg_y.tick_params(left=False)\n",
    "\n",
    "    # Calculate and display correlation\n",
    "    corr_res = pearsonr(df_res['G_1_residual'], df_res['G_2_residual'])[0]\n",
    "    plt.suptitle(f'Correlation between residuals of G_1 and G_2 is {corr_res:.3f}', fontsize=title_fontsize)\n",
    "    plt.subplots_adjust(top=0.95)\n",
    "    plt.show()\n",
    "\n"
   ]
  },
  {
   "cell_type": "markdown",
   "metadata": {},
   "source": [
    "# check the pvalue of GEM_T_10 and GEM_M_10 corr"
   ]
  },
  {
   "cell_type": "code",
   "execution_count": 17,
   "metadata": {},
   "outputs": [],
   "source": [
    "import numpy as np\n",
    "\n",
    "# Define gene sets\n",
    "GEM_T_10 = ['CXCR4', 'IL7R', 'TSC22D3', 'TXNIP', 'ZFP36', 'ZFP36L2']\n",
    "GEM_M_10 = ['ACSL1', 'ARRDC3', 'CD163', 'CPM', 'ELL2', 'GLUL', 'MAFB', 'NLRP3', 'PFKFB3', 'PLIN2', 'RCAN1', 'RHOB', 'SESN1']\n",
    "\n",
    "# Function to calculate average expression and add to .obs\n",
    "def add_avg_expression(adata, gene_list, colname):\n",
    "    genes_present = [g for g in gene_list if g in adata.var_names]\n",
    "    avg_expr = np.asarray(adata[:, genes_present].X.mean(axis=1)).ravel()\n",
    "    adata.obs[colname] = avg_expr\n",
    "\n",
    "# Apply to adata_1_pseudo\n",
    "add_avg_expression(adata_1_pseudo, GEM_T_10, 'GEM_T_10')\n",
    "add_avg_expression(adata_1_pseudo, GEM_M_10, 'GEM_M_10')\n",
    "\n",
    "# Apply to adata_2_pseudo\n",
    "add_avg_expression(adata_2_pseudo, GEM_T_10, 'GEM_T_10')\n",
    "add_avg_expression(adata_2_pseudo, GEM_M_10, 'GEM_M_10')\n"
   ]
  },
  {
   "cell_type": "code",
   "execution_count": null,
   "metadata": {},
   "outputs": [],
   "source": [
    "plot_CIT_DEGcorr('GEM_T_10', 'GEM_M_10', 'ITGA4', 'TFRC', gene_df, adata_1_pseudo, adata_2_pseudo)"
   ]
  }
 ],
 "metadata": {
  "kernelspec": {
   "display_name": "scRNA",
   "language": "python",
   "name": "python3"
  },
  "language_info": {
   "codemirror_mode": {
    "name": "ipython",
    "version": 3
   },
   "file_extension": ".py",
   "mimetype": "text/x-python",
   "name": "python",
   "nbconvert_exporter": "python",
   "pygments_lexer": "ipython3",
   "version": "3.11.11"
  }
 },
 "nbformat": 4,
 "nbformat_minor": 2
}
